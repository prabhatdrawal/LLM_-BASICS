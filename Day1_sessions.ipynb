{
  "nbformat": 4,
  "nbformat_minor": 0,
  "metadata": {
    "colab": {
      "provenance": [],
      "authorship_tag": "ABX9TyNDfA4+FuGSKU2QnEEe3UIg",
      "include_colab_link": true
    },
    "kernelspec": {
      "name": "python3",
      "display_name": "Python 3"
    },
    "language_info": {
      "name": "python"
    }
  },
  "cells": [
    {
      "cell_type": "markdown",
      "metadata": {
        "id": "view-in-github",
        "colab_type": "text"
      },
      "source": [
        "<a href=\"https://colab.research.google.com/github/prabhatdrawal/LLM_-BASICS/blob/main/Day1_sessions.ipynb\" target=\"_parent\"><img src=\"https://colab.research.google.com/assets/colab-badge.svg\" alt=\"Open In Colab\"/></a>"
      ]
    },
    {
      "cell_type": "markdown",
      "source": [
        "# ⚡️ Foundation of LLM and introduction to the transformer *models*\n"
      ],
      "metadata": {
        "id": "vNktckcdXNOK"
      }
    },
    {
      "cell_type": "markdown",
      "source": [
        "### Pipelining in Transformers Models\n"
      ],
      "metadata": {
        "id": "-KQdgEqlXkJU"
      }
    },
    {
      "cell_type": "code",
      "execution_count": null,
      "metadata": {
        "id": "J08jL2CEWkGE"
      },
      "outputs": [],
      "source": [
        "!pip install transformers[sentencepiece]"
      ]
    },
    {
      "cell_type": "markdown",
      "source": [
        "### Sentiment analysis using the transformer models\n"
      ],
      "metadata": {
        "id": "dnZgdpxoYFS7"
      }
    },
    {
      "cell_type": "code",
      "source": [
        "from transformers import pipeline\n",
        "\n",
        "classifier = pipeline(\"sentiment-analysis\")\n",
        "classifier(\n",
        "    [\n",
        "        \"I've been waiting for a HuggingFace course my whole life.\",\n",
        "        \"I hate this so much!\"\n",
        "    ]\n",
        ")"
      ],
      "metadata": {
        "id": "EuvYrEDoYBr7"
      },
      "execution_count": null,
      "outputs": []
    },
    {
      "cell_type": "markdown",
      "source": [
        "### Text generation model ( like CHATGPT )"
      ],
      "metadata": {
        "id": "Ywl33iVFaOh4"
      }
    },
    {
      "cell_type": "code",
      "source": [
        "generator = pipeline(\"text-generation\")\n",
        "generator(\"once upon a time in national college of engineering....\")"
      ],
      "metadata": {
        "id": "HvnLEQxFZDH5"
      },
      "execution_count": null,
      "outputs": []
    },
    {
      "cell_type": "markdown",
      "source": [
        "### Question Answer Model"
      ],
      "metadata": {
        "id": "2W_9gxCia1Uf"
      }
    },
    {
      "cell_type": "code",
      "source": [
        "qa = pipeline(\"question-answering\")\n",
        "qa (\n",
        "    question = \"Where do i work?\",\n",
        "    context = \"once upon a time in national college of engineering\"\n",
        ")"
      ],
      "metadata": {
        "id": "o2y6ef9ma4uo"
      },
      "execution_count": null,
      "outputs": []
    },
    {
      "cell_type": "markdown",
      "source": [
        "### Language Translator\n",
        " - for the example concept the sentence is translated from english to the german language based sentence"
      ],
      "metadata": {
        "id": "iFsAzdjjby7V"
      }
    },
    {
      "cell_type": "code",
      "source": [
        "translator = pipeline(\"translation_en_to_de\") # translate english to dutch \" german\"\n",
        "translator(\"I love programming language\")\n",
        "# output = Ich liebe Programmiersprache"
      ],
      "metadata": {
        "id": "-8lsd-Hsb1Lc"
      },
      "execution_count": null,
      "outputs": []
    },
    {
      "cell_type": "markdown",
      "source": [
        "### NER MODELS\n",
        "I - inside\n",
        "\n",
        "B - begin\n",
        "\n",
        "O - outside"
      ],
      "metadata": {
        "id": "NzVbWREwczzg"
      }
    },
    {
      "cell_type": "code",
      "source": [
        "ner = pipeline(\"ner\",model=\"dbmdz/bert-large-cased-finetuned-conll03-english\")\n",
        "ner(\"I am Prabhat and I am from Surkhet Nepal\") # this transformer model shows"
      ],
      "metadata": {
        "id": "98FuE1uYc2dN"
      },
      "execution_count": null,
      "outputs": []
    }
  ]
}