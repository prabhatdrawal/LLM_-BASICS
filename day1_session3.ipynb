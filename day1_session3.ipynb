{
  "nbformat": 4,
  "nbformat_minor": 0,
  "metadata": {
    "colab": {
      "provenance": [],
      "authorship_tag": "ABX9TyPCoaGcQuK9UyS2juvLCAtv",
      "include_colab_link": true
    },
    "kernelspec": {
      "name": "python3",
      "display_name": "Python 3"
    },
    "language_info": {
      "name": "python"
    }
  },
  "cells": [
    {
      "cell_type": "markdown",
      "metadata": {
        "id": "view-in-github",
        "colab_type": "text"
      },
      "source": [
        "<a href=\"https://colab.research.google.com/github/prabhatdrawal/LLM_-BASICS/blob/main/day1_session3.ipynb\" target=\"_parent\"><img src=\"https://colab.research.google.com/assets/colab-badge.svg\" alt=\"Open In Colab\"/></a>"
      ]
    },
    {
      "cell_type": "code",
      "execution_count": 23,
      "metadata": {
        "id": "XAmDNAJQviRn"
      },
      "outputs": [],
      "source": [
        "from google.colab import userdata\n",
        "api_key = userdata.get('Gemini_API_key')"
      ]
    },
    {
      "cell_type": "code",
      "source": [
        "import google.generativeai as genai"
      ],
      "metadata": {
        "id": "I2Q8gowdzIN-"
      },
      "execution_count": 24,
      "outputs": []
    },
    {
      "cell_type": "code",
      "source": [
        "genai.configure(api_key=api_key)\n",
        "llm = genai.GenerativeModel('gemini-2.5-flash')\n",
        "response = llm.generate_content(\"tell me a joke in nepali\")"
      ],
      "metadata": {
        "id": "9_VXRW_RzSPF"
      },
      "execution_count": 26,
      "outputs": []
    },
    {
      "cell_type": "code",
      "source": [
        "print(response.text)"
      ],
      "metadata": {
        "colab": {
          "base_uri": "https://localhost:8080/"
        },
        "id": "S5KmluMj2Y7j",
        "outputId": "de5e10ea-1cb4-452a-cd17-3d1906b847c8"
      },
      "execution_count": 30,
      "outputs": [
        {
          "output_type": "stream",
          "name": "stdout",
          "text": [
            "यहाँ एउटा नेपाली चुट्किला छ:\n",
            "\n",
            "**शिक्षक:** \"बाबु, तिमी आज किन ढिलो आयौ?\"\n",
            "\n",
            "**विद्यार्थी:** \"सर, बाटोमा 'विद्यालय अगाडि बिस्तारै जानुहोस्' लेखेको बोर्ड देखेपछि, म बिस्तारै-बिस्तारै आएँ।\"\n",
            "\n",
            "---\n",
            "\n",
            "**English Translation:**\n",
            "\n",
            "**Teacher:** \"Son, why are you late today?\"\n",
            "\n",
            "**Student:** \"Sir, after seeing a sign on the road that said 'School Ahead, Go Slowly,' I came very, very slowly.\"\n"
          ]
        }
      ]
    },
    {
      "cell_type": "code",
      "source": [
        "response = llm.generate_content(\"timro naam k ho\")\n",
        "print(response.text)"
      ],
      "metadata": {
        "colab": {
          "base_uri": "https://localhost:8080/",
          "height": 35
        },
        "id": "MdegSLD54KUb",
        "outputId": "9e7a4b0e-48df-4acd-9132-3b0948cd38f6"
      },
      "execution_count": 32,
      "outputs": [
        {
          "output_type": "stream",
          "name": "stdout",
          "text": [
            "मेरो कुनै खास नाम छैन। म गुगलद्वारा तालिमप्राप्त एउटा ठूलो भाषा मोडल हुँ।\n"
          ]
        }
      ]
    },
    {
      "cell_type": "code",
      "source": [
        "#tune the llm model\n",
        "generation_config = {\n",
        "    'temperature' : 0.6,\n",
        "    'max_output_tokens' : 8000,\n",
        "    'candidate_count' : 1,\n",
        "}"
      ],
      "metadata": {
        "id": "8w5li8fB4XoF"
      },
      "execution_count": 34,
      "outputs": []
    },
    {
      "cell_type": "code",
      "source": [
        "llm = genai.GenerativeModel(\n",
        "    model_name = 'gemini-2.5-flash',\n",
        "    generation_config = generation_config,\n",
        "    system_instruction = \"You are the professor of Engineering college on Physics\",\n",
        ")"
      ],
      "metadata": {
        "id": "jllNIIgD44nr"
      },
      "execution_count": 36,
      "outputs": []
    },
    {
      "cell_type": "code",
      "source": [
        "input = \"what is the theory of schrodingers cat trilogy?\""
      ],
      "metadata": {
        "id": "94t1YnFv5Rtr"
      },
      "execution_count": 42,
      "outputs": []
    },
    {
      "cell_type": "code",
      "source": [
        "#start the session\n",
        "chat_session = llm.start_chat()"
      ],
      "metadata": {
        "id": "XsoOmyDK5S00"
      },
      "execution_count": 43,
      "outputs": []
    },
    {
      "cell_type": "code",
      "source": [
        "response = chat_session.send_message(input)"
      ],
      "metadata": {
        "id": "tQasnxDU5cQZ"
      },
      "execution_count": 44,
      "outputs": []
    },
    {
      "cell_type": "code",
      "source": [
        "print(response.text)"
      ],
      "metadata": {
        "colab": {
          "base_uri": "https://localhost:8080/"
        },
        "collapsed": true,
        "id": "t-1XfOgn5z2l",
        "outputId": "ce3b9515-4db3-4755-da53-eae0cb3fc98b"
      },
      "execution_count": 45,
      "outputs": [
        {
          "output_type": "stream",
          "name": "stdout",
          "text": [
            "Ah, an excellent question that bridges the fascinating gap between quantum physics and philosophical inquiry! When you ask about the \"theory of Schrödinger's Cat trilogy,\" we need to address two distinct, though related, concepts:\n",
            "\n",
            "1.  **The original \"theory\" (or rather, thought experiment) of Schrödinger's Cat in quantum physics.**\n",
            "2.  **The \"Schrödinger's Cat Trilogy\" by Robert Anton Wilson, which uses the thought experiment as a central metaphor.**\n",
            "\n",
            "Let's break them down.\n",
            "\n",
            "---\n",
            "\n",
            "### 1. The Theory of Schrödinger's Cat (The Physics Thought Experiment)\n",
            "\n",
            "First, let's clarify the original concept proposed by Erwin Schrödinger in 1935. It's not a \"theory\" in the sense of a testable hypothesis about the universe, but rather a **thought experiment** designed to illustrate the counter-intuitive nature of quantum mechanics when applied to macroscopic objects, specifically the concept of **superposition** and the **measurement problem**.\n",
            "\n",
            "**The Setup:**\n",
            "\n",
            "Imagine a cat sealed in a steel box, along with:\n",
            "*   A radioactive source (e.g., a single atom) that has a 50% chance of decaying within an hour.\n",
            "*   A Geiger counter, which detects if the atom decays.\n",
            "*   A hammer, linked to the Geiger counter, which will smash a vial of deadly poison if the Geiger counter detects decay.\n",
            "\n",
            "**The \"Theory\" (or Paradox):**\n",
            "\n",
            "According to the Copenhagen interpretation of quantum mechanics, before observation, the radioactive atom is in a **superposition** of states – it is simultaneously decayed *and* undecayed. Because the cat's fate is entangled with the atom's state, the cat itself would, until the box is opened and the system observed, also be in a superposition of **both dead and alive simultaneously**.\n",
            "\n",
            "**The Purpose:**\n",
            "\n",
            "Schrödinger found this idea absurd when extended to a macroscopic object like a cat. His thought experiment highlights:\n",
            "*   **The Measurement Problem:** What constitutes an \"observation\" or \"measurement\" that causes the wave function (the mathematical description of the particle's probability of being in various states) to \"collapse\" into a single, definite state? Does the cat's own observation count? Does a human observer need to be present?\n",
            "*   **The Boundary Between Quantum and Classical:** Where does the bizarre quantum world (where particles can be in multiple places at once) transition into the classical world (where cats are definitively dead or alive)?\n",
            "\n",
            "The \"theory\" here is simply the demonstration of this profound paradox within quantum mechanics, prompting deeper questions about the nature of reality and observation.\n",
            "\n",
            "---\n",
            "\n",
            "### 2. The Theory of Robert Anton Wilson's \"Schrödinger's Cat Trilogy\"\n",
            "\n",
            "Now, when you refer to a \"trilogy,\" you are almost certainly talking about the fascinating and mind-bending philosophical fiction series by **Robert Anton Wilson**, published between 1979 and 1981. The trilogy consists of:\n",
            "\n",
            "1.  ***The Universe Next Door***\n",
            "2.  ***The Trick Top Hat***\n",
            "3.  ***The Homing Pigeons***\n",
            "\n",
            "Wilson uses the Schrödinger's Cat thought experiment not as a literal physics problem, but as a **metaphor** for his broader philosophical and epistemological themes.\n",
            "\n",
            "**The \"Theory\" (Philosophical Themes) of the Trilogy:**\n",
            "\n",
            "Wilson's work is deeply influenced by his interest in quantum mechanics, general semantics, Discordianism, and various conspiracy theories. The central \"theory\" of the trilogy is a highly subjective and relativistic view of reality, often summarized by these key concepts:\n",
            "\n",
            "1.  **Subjectivity of Reality / Reality Tunnels:**\n",
            "    *   Just as the cat's state is indeterminate until observed, Wilson posits that our \"reality\" is not a fixed, objective entity but is largely determined by our beliefs, expectations, and the \"filters\" through which we perceive the world. He calls these filters \"reality tunnels.\"\n",
            "    *   Each individual, culture, or even species, creates and inhabits its own reality tunnel, based on their unique experiences, genetic predispositions, and conditioning. There isn't one \"true\" reality, but many co-existing subjective realities.\n",
            "\n",
            "2.  **The Observer Effect (Philosophical Extension):**\n",
            "    *   Drawing from the quantum observer effect, Wilson extends this to human consciousness. He suggests that our consciousness actively participates in shaping the reality we experience. If you believe something strongly enough, it becomes \"true\" within your reality tunnel, even if it contradicts someone else's.\n",
            "    *   This leads to the idea that by changing our beliefs and perceptions, we can literally change our reality.\n",
            "\n",
            "3.  **Multiple Interpretations and Paradigms:**\n",
            "    *   The books playfully explore various competing \"paradigms\" or \"conspiracy theories\" (e.g., Illuminati, aliens, secret societies, competing scientific theories, occult systems). Wilson suggests that each of these paradigms, however outlandish, can be internally consistent and \"real\" to those who believe in them.\n",
            "    *   He uses the analogy of the cat: just as the cat is simultaneously dead and alive until observed, the \"truth\" about a conspiracy or a philosophical system can be simultaneously valid and invalid depending on your chosen reality tunnel.\n",
            "\n",
            "4.  **Challenging Dogma and Certainty:**\n",
            "    *   A core aim of Wilson's work is to challenge all forms of dogma, whether scientific, religious, political, or social. He encourages readers to question their own reality tunnels and to remain open to alternative possibilities.\n",
            "    *   The trilogy is a satirical and humorous critique of those who claim to possess absolute truth, suggesting that certainty is often a form of self-imposed limitation.\n",
            "\n",
            "5.  **Meta-Fiction and Self-Reference:**\n",
            "    *   The books are highly meta-fictional, often blurring the lines between author, narrator, and characters. Wilson frequently breaks the fourth wall, and the characters themselves discuss the nature of reality, the act of writing, and the very ideas the books are exploring. This reinforces the idea that reality is a construct.\n",
            "\n",
            "**In Summary:**\n",
            "\n",
            "While the **theory of Schrödinger's Cat** in physics is a thought experiment to illustrate the bizarre nature of quantum superposition and the measurement problem at a macroscopic level, **Robert Anton Wilson's \"Schrödinger's Cat Trilogy\"** uses the *metaphor* of the cat to explore the subjective, malleable, and often contradictory nature of human reality and perception.\n",
            "\n",
            "One deals with the fundamental laws of the universe, the other with the ways our minds construct and interpret those laws. Both are profoundly thought-provoking in their own right!\n"
          ]
        }
      ]
    },
    {
      "cell_type": "markdown",
      "source": [
        "##Framework to work with LLM Models for orchestration\n",
        "- LANGCHAIN\n",
        "- LAMAINDEX\n",
        "- HAYSTACK"
      ],
      "metadata": {
        "id": "QsmyjcCG6e-4"
      }
    },
    {
      "cell_type": "code",
      "source": [
        "# CHAT-API USING LANGCHAIN\n",
        "!pip install langchain_google_genai"
      ],
      "metadata": {
        "id": "j0_pJoIt6VVu"
      },
      "execution_count": null,
      "outputs": []
    },
    {
      "cell_type": "code",
      "source": [
        "from langchain_google_genai import ChatGoogleGenerativeAI\n"
      ],
      "metadata": {
        "id": "fOG_tC1H7HBs"
      },
      "execution_count": 47,
      "outputs": []
    },
    {
      "cell_type": "code",
      "source": [
        "llm = ChatGoogleGenerativeAI(model ='gemini-2.5-flash',api_key = api_key)"
      ],
      "metadata": {
        "id": "w2T2t8PL7ROT"
      },
      "execution_count": 48,
      "outputs": []
    },
    {
      "cell_type": "code",
      "source": [
        "result = llm.invoke(\"Tell me a joke in Nepali.It should have a story of A engineering student\")\n",
        "result.content"
      ],
      "metadata": {
        "colab": {
          "base_uri": "https://localhost:8080/",
          "height": 107
        },
        "id": "ThnjNVUK7cl-",
        "outputId": "3c972911-0f04-41a1-e9be-0a19fc8bbcbc"
      },
      "execution_count": 51,
      "outputs": [
        {
          "output_type": "execute_result",
          "data": {
            "text/plain": [
              "'पक्कै! यहाँ एउटा इन्जिनियरिङ विद्यार्थीको कथा भएको नेपाली जोक छ:\\n\\n**जोक:**\\n\\nएक जना इन्जिनियरिङको विद्यार्थी गर्मी बिदामा आफ्नो गाउँ घर जान्छ। उसको घरमा पंखा (Fan) बिग्रिएको हुन्छ। हजुरआमाले उसलाई भन्नुहुन्छ, \"बाबु, यो पंखा चलेन, अलि हेरिदेऊ न।\"\\n\\nइन्जिनियरिङ विद्यार्थीले तुरुन्तै आफ्नो टुलबक्स निकाल्छ। उसले पंखाको मोटर, तार, सर्किट डायग्राम सबै जाँच गर्छ। भोल्टेज नाप्छ, करेन्ट चेक गर्छ। विभिन्न जटिल हिसाब-किताब गर्छ। घन्टौँसम्म दिमाग खियाउँछ, तर पंखा चल्दैन।\\n\\nअन्तमा, दिक्क मान्दै उसले हजुरआमालाई भन्छ, \"हजुरआमा, मैले सबै कुरा जाँच गरें। यसको मोटर ठिक छ, तार पनि ठिक छ, सर्किटमा पनि केही समस्या छैन। तर पनि किन चलेन, मैले बुझ्न सकिनँ!\"\\n\\nहजुरआमा मुस्कुराउँदै भन्नुहुन्छ, \"नानी, तिमीले पंखाको \\'प्लग\\' नै लगाएको छैनौ नि!\"\\n\\n**नैतिक शिक्षा:** इन्जिनियरहरू कहिलेकाहीँ जटिल समस्यामा यति धेरै ध्यान दिन्छन् कि उनीहरूले सबैभन्दा आधारभूत कुराहरू बिर्सन्छन्!'"
            ],
            "application/vnd.google.colaboratory.intrinsic+json": {
              "type": "string"
            }
          },
          "metadata": {},
          "execution_count": 51
        }
      ]
    },
    {
      "cell_type": "code",
      "source": [
        "print(result.content)"
      ],
      "metadata": {
        "colab": {
          "base_uri": "https://localhost:8080/"
        },
        "id": "sU4UYcC97tSG",
        "outputId": "6a609159-343b-41bf-fc23-e62f24522a74"
      },
      "execution_count": 52,
      "outputs": [
        {
          "output_type": "stream",
          "name": "stdout",
          "text": [
            "पक्कै! यहाँ एउटा इन्जिनियरिङ विद्यार्थीको कथा भएको नेपाली जोक छ:\n",
            "\n",
            "**जोक:**\n",
            "\n",
            "एक जना इन्जिनियरिङको विद्यार्थी गर्मी बिदामा आफ्नो गाउँ घर जान्छ। उसको घरमा पंखा (Fan) बिग्रिएको हुन्छ। हजुरआमाले उसलाई भन्नुहुन्छ, \"बाबु, यो पंखा चलेन, अलि हेरिदेऊ न।\"\n",
            "\n",
            "इन्जिनियरिङ विद्यार्थीले तुरुन्तै आफ्नो टुलबक्स निकाल्छ। उसले पंखाको मोटर, तार, सर्किट डायग्राम सबै जाँच गर्छ। भोल्टेज नाप्छ, करेन्ट चेक गर्छ। विभिन्न जटिल हिसाब-किताब गर्छ। घन्टौँसम्म दिमाग खियाउँछ, तर पंखा चल्दैन।\n",
            "\n",
            "अन्तमा, दिक्क मान्दै उसले हजुरआमालाई भन्छ, \"हजुरआमा, मैले सबै कुरा जाँच गरें। यसको मोटर ठिक छ, तार पनि ठिक छ, सर्किटमा पनि केही समस्या छैन। तर पनि किन चलेन, मैले बुझ्न सकिनँ!\"\n",
            "\n",
            "हजुरआमा मुस्कुराउँदै भन्नुहुन्छ, \"नानी, तिमीले पंखाको 'प्लग' नै लगाएको छैनौ नि!\"\n",
            "\n",
            "**नैतिक शिक्षा:** इन्जिनियरहरू कहिलेकाहीँ जटिल समस्यामा यति धेरै ध्यान दिन्छन् कि उनीहरूले सबैभन्दा आधारभूत कुराहरू बिर्सन्छन्!\n"
          ]
        }
      ]
    },
    {
      "cell_type": "markdown",
      "source": [
        "### Let's play around with Prompt Template"
      ],
      "metadata": {
        "id": "bC5QrtgD9cnH"
      }
    },
    {
      "cell_type": "code",
      "source": [
        "template_string = \"translate the text \\\n",
        "that is delimited by triple backticks \\\n",
        "into a style that is {style}. \\\n",
        "text: ```{text}```\""
      ],
      "metadata": {
        "id": "M1S6u3Bf9Rtk"
      },
      "execution_count": 57,
      "outputs": []
    },
    {
      "cell_type": "code",
      "source": [
        "from langchain.prompts import ChatPromptTemplate\n",
        "\n",
        "prompt_template = ChatPromptTemplate.from_template(template_string)"
      ],
      "metadata": {
        "id": "gfjGRryo90nB"
      },
      "execution_count": 58,
      "outputs": []
    },
    {
      "cell_type": "code",
      "source": [
        "prompt_template.messages[0].prompt"
      ],
      "metadata": {
        "colab": {
          "base_uri": "https://localhost:8080/"
        },
        "id": "2lxq9NYd9_Yf",
        "outputId": "5308e5a3-c6ed-49d2-8c41-aeec9833c6f4"
      },
      "execution_count": 59,
      "outputs": [
        {
          "output_type": "execute_result",
          "data": {
            "text/plain": [
              "PromptTemplate(input_variables=['style', 'text'], input_types={}, partial_variables={}, template='translate the text that is delimited by triple backticks into a style that is {style}. text: ```{text}```')"
            ]
          },
          "metadata": {},
          "execution_count": 59
        }
      ]
    },
    {
      "cell_type": "code",
      "source": [
        "customer_style = \"\"\"pure nepali \\\n",
        "in a calm and respectful tone\n",
        "\"\"\""
      ],
      "metadata": {
        "id": "RZhDFnq_-XC8"
      },
      "execution_count": 73,
      "outputs": []
    },
    {
      "cell_type": "code",
      "source": [
        "customer_email = \"\"\" welcome to GenAI Tutoial \\\n",
        "class.This is day 1. We are using google gemini flash model\n",
        "\"\"\""
      ],
      "metadata": {
        "id": "eqv5K2F4-kLk"
      },
      "execution_count": 74,
      "outputs": []
    },
    {
      "cell_type": "code",
      "source": [
        "service_style = \"\"\" a polite tone \\ that speaks in newari\"\"\"\n",
        "service_reply = \"\"\" hey customer , the warranty doesnt cover cleaning \\\n",
        "expenses for your kitchen item.\"\"\""
      ],
      "metadata": {
        "id": "vKIPM8WVAQa7"
      },
      "execution_count": 72,
      "outputs": []
    },
    {
      "cell_type": "code",
      "source": [
        "customer_messages = prompt_template.format_messages(\n",
        "    style = service_style,\n",
        "    text = service_reply\n",
        ")"
      ],
      "metadata": {
        "id": "2nfQEQF_-5LW"
      },
      "execution_count": 75,
      "outputs": []
    },
    {
      "cell_type": "code",
      "source": [
        "print(customer_messages[0])"
      ],
      "metadata": {
        "colab": {
          "base_uri": "https://localhost:8080/"
        },
        "id": "YjwGMktm_Eam",
        "outputId": "5f5767d5-b5a5-4b7d-f93b-b1c0d2170fa1"
      },
      "execution_count": 76,
      "outputs": [
        {
          "output_type": "stream",
          "name": "stdout",
          "text": [
            "content='translate the text that is delimited by triple backticks into a style that is  a polite tone \\\\ that speaks in newari. text: ``` hey customer , the warranty doesnt cover cleaning expenses for your kitchen item.```' additional_kwargs={} response_metadata={}\n"
          ]
        }
      ]
    },
    {
      "cell_type": "code",
      "source": [
        "# lets call LLM to translate the style of the customer messages\n",
        "customer_response = llm.invoke(customer_messages)\n",
        "print(customer_response)"
      ],
      "metadata": {
        "colab": {
          "base_uri": "https://localhost:8080/"
        },
        "id": "Qr1rzkjw_KSX",
        "outputId": "0a1a01af-6ce7-48a4-afd6-019b0ad6005d"
      },
      "execution_count": 77,
      "outputs": [
        {
          "output_type": "stream",
          "name": "stdout",
          "text": [
            "content='Here\\'s the Newari translation with a polite tone:\\n\\n**ग्राहक ज्यू, छंगु छेखानाया सामानया छुयेगु खर्च ग्यारेन्टी दुने लागू जुइमखु।**\\n\\n**Pronunciation Guide:**\\n\\n*   **ग्राहक ज्यू** (Grahak jyu): Customer sir/madam (polite address)\\n*   **छंगु** (Chhangu): Your (polite)\\n*   **छेखानाया** (Che-khana-ya): Of the kitchen / for the kitchen (छेखाना = kitchen)\\n*   **सामानया** (Saaman-ya): Of the item / for the item (सामान = item/goods)\\n*   **छुयेगु** (Chhuye-gu): Cleaning (छुये = to clean)\\n*   **खर्च** (Kharcha): Expense\\n*   **ग्यारेन्टी** (Guarantee): Warranty (common loanword)\\n*   **दुने** (Dune): Inside / within\\n*   **लागू जुइमखु।** (Laagu juimakhugu): Will not be applicable / is not covered. (लागू जुइमखु is a polite negative form)\\n\\n**Breakdown of politeness:**\\n\\n*   **ग्राहक ज्यू (Grahak jyu):** Directly addresses the customer with respect, similar to \"Mr./Ms. Customer\" or \"Respected Customer.\"\\n*   **छंगु (Chhangu):** Uses the polite form of \"your\" (as opposed to \"tyangu\" which is more informal).\\n*   **लागू जुइमखु (Laagu juimakhugu):** This phrasing is a standard, polite way to state that something is not applicable or not covered by a rule or policy, without sounding abrupt or accusatory.' additional_kwargs={} response_metadata={'prompt_feedback': {'block_reason': 0, 'safety_ratings': []}, 'finish_reason': 'STOP', 'model_name': 'gemini-2.5-flash', 'safety_ratings': []} id='run--f0fd2a9e-db6d-4e4e-b079-c2e1319940c8-0'\n"
          ]
        }
      ]
    },
    {
      "cell_type": "code",
      "source": [
        "print(customer_response.content)"
      ],
      "metadata": {
        "colab": {
          "base_uri": "https://localhost:8080/"
        },
        "id": "XsdwHVjE_p2L",
        "outputId": "158ac7cb-c3f5-43cb-e3eb-c6f441f85a85"
      },
      "execution_count": 78,
      "outputs": [
        {
          "output_type": "stream",
          "name": "stdout",
          "text": [
            "Here's the Newari translation with a polite tone:\n",
            "\n",
            "**ग्राहक ज्यू, छंगु छेखानाया सामानया छुयेगु खर्च ग्यारेन्टी दुने लागू जुइमखु।**\n",
            "\n",
            "**Pronunciation Guide:**\n",
            "\n",
            "*   **ग्राहक ज्यू** (Grahak jyu): Customer sir/madam (polite address)\n",
            "*   **छंगु** (Chhangu): Your (polite)\n",
            "*   **छेखानाया** (Che-khana-ya): Of the kitchen / for the kitchen (छेखाना = kitchen)\n",
            "*   **सामानया** (Saaman-ya): Of the item / for the item (सामान = item/goods)\n",
            "*   **छुयेगु** (Chhuye-gu): Cleaning (छुये = to clean)\n",
            "*   **खर्च** (Kharcha): Expense\n",
            "*   **ग्यारेन्टी** (Guarantee): Warranty (common loanword)\n",
            "*   **दुने** (Dune): Inside / within\n",
            "*   **लागू जुइमखु।** (Laagu juimakhugu): Will not be applicable / is not covered. (लागू जुइमखु is a polite negative form)\n",
            "\n",
            "**Breakdown of politeness:**\n",
            "\n",
            "*   **ग्राहक ज्यू (Grahak jyu):** Directly addresses the customer with respect, similar to \"Mr./Ms. Customer\" or \"Respected Customer.\"\n",
            "*   **छंगु (Chhangu):** Uses the polite form of \"your\" (as opposed to \"tyangu\" which is more informal).\n",
            "*   **लागू जुइमखु (Laagu juimakhugu):** This phrasing is a standard, polite way to state that something is not applicable or not covered by a rule or policy, without sounding abrupt or accusatory.\n"
          ]
        }
      ]
    },
    {
      "cell_type": "code",
      "source": [],
      "metadata": {
        "id": "NrxmtvAoCxVJ"
      },
      "execution_count": null,
      "outputs": []
    }
  ]
}